{
  "nbformat": 4,
  "nbformat_minor": 0,
  "metadata": {
    "colab": {
      "name": "mk_class_idx.ipynb",
      "provenance": []
    },
    "kernelspec": {
      "name": "python3",
      "display_name": "Python 3"
    }
  },
  "cells": [
    {
      "cell_type": "code",
      "metadata": {
        "id": "g3k3GF2eJ48v",
        "colab_type": "code",
        "colab": {}
      },
      "source": [
        "import os\n",
        "from config import config as cfg\n",
        "\n",
        "def mk_class_idx():\n",
        "    train_class_idx = open('train_class_idx.txt','w')\n",
        "    test_class_idx = open('test_class_idx.txt','w')\n",
        "    number = len(os.listdir(cfg.train_data_path))\n",
        "    for idx,classes in enumerate(os.listdir(cfg.train_data_path)):\n",
        "        if idx != (number-1):\n",
        "            train_class_idx.write(classes+'\\n')\n",
        "            test_class_idx.write(classes+'\\n')\n",
        "        else:\n",
        "            train_class_idx.write(classes)\n",
        "            test_class_idx.write(classes)\n",
        "\n",
        "def main():\n",
        "    mk_class_idx()\n",
        "\n",
        "if __name__ == '__main__':\n",
        "    main()"
      ],
      "execution_count": 0,
      "outputs": []
    }
  ]
}