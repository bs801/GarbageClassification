{
  "nbformat": 4,
  "nbformat_minor": 0,
  "metadata": {
    "colab": {
      "name": "TrainingModelForGarbageClassification.ipynb",
      "provenance": []
    },
    "kernelspec": {
      "name": "python3",
      "display_name": "Python 3"
    },
    "accelerator": "TPU"
  },
  "cells": [
    {
      "cell_type": "markdown",
      "metadata": {
        "id": "83Z1F2BZsF-5",
        "colab_type": "text"
      },
      "source": [
        "This colab will use pretrained model ResNet50 in keras to train our model. \n",
        "1.   Connect To Google Drive Where Data Is Located\n",
        "2.   Set up proper environment and packages including mobilenet model\n",
        "1.   Train the model\n",
        "\n",
        "1.   Check the accuracy\n",
        "\n",
        "\n",
        "\n",
        "\n",
        "\n",
        "\n",
        "\n",
        "\n",
        "\n"
      ]
    },
    {
      "cell_type": "code",
      "metadata": {
        "id": "hFt3tmgGonN3",
        "colab_type": "code",
        "outputId": "4cafa9d2-128a-49a3-fd62-5a00ef86faf7",
        "colab": {
          "base_uri": "https://localhost:8080/",
          "height": 121
        }
      },
      "source": [
        "from google.colab import drive\n",
        "drive.mount('/content/drive/') "
      ],
      "execution_count": 0,
      "outputs": [
        {
          "output_type": "stream",
          "text": [
            "Go to this URL in a browser: https://accounts.google.com/o/oauth2/auth?client_id=947318989803-6bn6qk8qdgf4n4g3pfee6491hc0brc4i.apps.googleusercontent.com&redirect_uri=urn%3aietf%3awg%3aoauth%3a2.0%3aoob&response_type=code&scope=email%20https%3a%2f%2fwww.googleapis.com%2fauth%2fdocs.test%20https%3a%2f%2fwww.googleapis.com%2fauth%2fdrive%20https%3a%2f%2fwww.googleapis.com%2fauth%2fdrive.photos.readonly%20https%3a%2f%2fwww.googleapis.com%2fauth%2fpeopleapi.readonly\n",
            "\n",
            "Enter your authorization code:\n",
            "··········\n",
            "Mounted at /content/drive/\n"
          ],
          "name": "stdout"
        }
      ]
    },
    {
      "cell_type": "code",
      "metadata": {
        "id": "CLTEA5sApa6N",
        "colab_type": "code",
        "outputId": "358a535b-06fe-4bab-e1d1-0bcbee9d707d",
        "colab": {
          "base_uri": "https://localhost:8080/",
          "height": 34
        }
      },
      "source": [
        "from google.colab import drive\n",
        "drive.mount('/content/drive')"
      ],
      "execution_count": 0,
      "outputs": [
        {
          "output_type": "stream",
          "text": [
            "Drive already mounted at /content/drive; to attempt to forcibly remount, call drive.mount(\"/content/drive\", force_remount=True).\n"
          ],
          "name": "stdout"
        }
      ]
    },
    {
      "cell_type": "code",
      "metadata": {
        "id": "8_zU7xaTqMli",
        "colab_type": "code",
        "outputId": "4b02a2dc-df75-4802-d72b-a824587334cd",
        "colab": {
          "base_uri": "https://localhost:8080/",
          "height": 168
        }
      },
      "source": [
        "!pip install -p keras"
      ],
      "execution_count": 0,
      "outputs": [
        {
          "output_type": "stream",
          "text": [
            "\n",
            "Usage:   \n",
            "  pip3 install [options] <requirement specifier> [package-index-options] ...\n",
            "  pip3 install [options] -r <requirements file> [package-index-options] ...\n",
            "  pip3 install [options] [-e] <vcs project url> ...\n",
            "  pip3 install [options] [-e] <local project path> ...\n",
            "  pip3 install [options] <archive url/path> ...\n",
            "\n",
            "no such option: -p\n"
          ],
          "name": "stdout"
        }
      ]
    },
    {
      "cell_type": "code",
      "metadata": {
        "id": "g9kh_PXlqUrZ",
        "colab_type": "code",
        "outputId": "4906193b-8143-417d-c101-bc7cbd35fec2",
        "colab": {
          "base_uri": "https://localhost:8080/",
          "height": 34
        }
      },
      "source": [
        "import keras\n",
        "import tensorflow as tf"
      ],
      "execution_count": 0,
      "outputs": [
        {
          "output_type": "stream",
          "text": [
            "Using TensorFlow backend.\n"
          ],
          "name": "stderr"
        }
      ]
    },
    {
      "cell_type": "code",
      "metadata": {
        "id": "29GXvd60qYfG",
        "colab_type": "code",
        "colab": {}
      },
      "source": [
        "from keras.layers import Input, Lambda, Dense, Flatten\n",
        "from keras.models import Model\n",
        "from keras.applications.resnet50 import ResNet50\n",
        "from keras.applications.resnet50 import preprocess_input\n",
        "from keras.preprocessing.image import ImageDataGenerator\n",
        "from keras.models import Sequential\n",
        "import numpy as np\n",
        "import pandas as pd\n",
        "import boto3\n",
        "from glob import glob\n",
        "import matplotlib.pyplot as plt"
      ],
      "execution_count": 0,
      "outputs": []
    },
    {
      "cell_type": "markdown",
      "metadata": {
        "id": "VYIbzBkIoywx",
        "colab_type": "text"
      },
      "source": [
        "Before one load data from google drive, one has to resize it locally. Here is a python code to help you size your images in one second. https://gist.github.com/durgaswaroop/6aea3b5aae21090fc17bfde8f4532477"
      ]
    },
    {
      "cell_type": "code",
      "metadata": {
        "id": "8QBBEZ2DtZov",
        "colab_type": "code",
        "colab": {}
      },
      "source": [
        "IMAGE_SIZE = [128,128]\n",
        "\n",
        "train_path = '/content/drive/My Drive/Colab Notebooks/New Rubbish Dataset/Resized Train'\n",
        "test_path = '/content/drive/My Drive/Colab Notebooks/New Rubbish Dataset/Resized Test'\n",
        "# raw image path = '/content/drive/My Drive/Colab Notebooks/New Rubbish Dataset/Train'\n",
        "# raw_test_path = '/content/drive/My Drive/Colab Notebooks/New Rubbish Dataset/Test'"
      ],
      "execution_count": 0,
      "outputs": []
    },
    {
      "cell_type": "markdown",
      "metadata": {
        "id": "1QBBPQ2-r7tS",
        "colab_type": "text"
      },
      "source": [
        "Once one set up train_path and test_path correctly, one can read images from dataset by using ImageDataGenerator"
      ]
    },
    {
      "cell_type": "code",
      "metadata": {
        "id": "0TXIub4WtZx_",
        "colab_type": "code",
        "outputId": "121aff1c-6be1-4b69-853b-bd70793628cd",
        "colab": {
          "base_uri": "https://localhost:8080/",
          "height": 50
        }
      },
      "source": [
        "from keras.preprocessing.image import ImageDataGenerator\n",
        "train_data = ImageDataGenerator(rescale = 1./255, shear_range = 0.1, zoom_range = 0.1, horizontal_flip = True)\n",
        "test_data = ImageDataGenerator(rescale = 1./255)\n",
        "\n",
        "training_set = train_data.flow_from_directory(train_path, target_size = (128, 128), batch_size = 32, class_mode = 'categorical')\n",
        "\n",
        "test_set = test_data.flow_from_directory(test_path, target_size = (128, 128), batch_size = 32, class_mode = 'categorical')"
      ],
      "execution_count": 0,
      "outputs": [
        {
          "output_type": "stream",
          "text": [
            "Found 599 images belonging to 3 classes.\n",
            "Found 28 images belonging to 3 classes.\n"
          ],
          "name": "stdout"
        }
      ]
    },
    {
      "cell_type": "markdown",
      "metadata": {
        "id": "RmcwEci6zP2s",
        "colab_type": "text"
      },
      "source": [
        "Lets import our pretrained model from keras and tweak on it."
      ]
    },
    {
      "cell_type": "code",
      "metadata": {
        "id": "ROL31EeDtZ5G",
        "colab_type": "code",
        "outputId": "43d6bd55-32a9-4978-ad07-0de9ac36c936",
        "colab": {
          "base_uri": "https://localhost:8080/",
          "height": 319
        }
      },
      "source": [
        "#pretrained_model = tf.keras.applications.ResNet50(weights='imagenet', include_top=False, input_shape=[*IMAGE_SIZE, 3])\n",
        "#pretrained_model = tf.keras.applications.ResNet50V2(weights='imagenet', include_top=False, input_shape=[*IMAGE_SIZE, 3])\n",
        "#pretrained_model = tf.keras.applications.MobileNetV2(input_shape=[*IMAGE_SIZE, 3], include_top=False)\n",
        "#pretrained_model = tf.keras.applications.VGG16(weights='imagenet', include_top=False ,input_shape=[*IMAGE_SIZE, 3])\n",
        "pretrained_model = tf.keras.applications.MobileNet(weights='imagenet', include_top=False, input_shape=[*IMAGE_SIZE, 3])\n",
        "#pretrained_model = tf.keras.application_inception_resnet_v2(include_top = TRUE,weights = \"imagenet\", input_tensor = NULL, input_shape = NULL,pooling = NULL, classes = 3)\n",
        "#pretrained_model = tf.keras.application.densenet(blocks, include_top = TRUE, weights = \"imagenet\",input_tensor = NULL, input_shape = NULL, pooling = NULL,classes = 3)\n",
        "\n",
        "pretrained_model.trainable = False\n",
        "\n",
        "model = tf.keras.Sequential([\n",
        "    pretrained_model,\n",
        "    tf.keras.layers.Conv2D(filters=32, kernel_size=3, strides=(3, 3), activation='relu'),\n",
        "    tf.keras.layers.Dropout(0.5),\n",
        "    tf.keras.layers.Flatten(),\n",
        "    tf.keras.layers.Dense(3, activation='softmax')\n",
        "])\n",
        "\n",
        "model.compile(\n",
        "    optimizer='adam',\n",
        "    loss = 'categorical_crossentropy',\n",
        "    metrics=['accuracy']\n",
        ")\n",
        "\n",
        "model.summary()"
      ],
      "execution_count": 0,
      "outputs": [
        {
          "output_type": "stream",
          "text": [
            "Model: \"sequential_6\"\n",
            "_________________________________________________________________\n",
            "Layer (type)                 Output Shape              Param #   \n",
            "=================================================================\n",
            "mobilenet_1.00_128 (Model)   (None, 4, 4, 1024)        3228864   \n",
            "_________________________________________________________________\n",
            "conv2d_6 (Conv2D)            (None, 1, 1, 32)          294944    \n",
            "_________________________________________________________________\n",
            "dropout_6 (Dropout)          (None, 1, 1, 32)          0         \n",
            "_________________________________________________________________\n",
            "flatten_6 (Flatten)          (None, 32)                0         \n",
            "_________________________________________________________________\n",
            "dense_6 (Dense)              (None, 3)                 99        \n",
            "=================================================================\n",
            "Total params: 3,523,907\n",
            "Trainable params: 295,043\n",
            "Non-trainable params: 3,228,864\n",
            "_________________________________________________________________\n"
          ],
          "name": "stdout"
        }
      ]
    },
    {
      "cell_type": "markdown",
      "metadata": {
        "id": "75Fu1C4bzdAE",
        "colab_type": "text"
      },
      "source": [
        "Let's train our model."
      ]
    },
    {
      "cell_type": "code",
      "metadata": {
        "id": "Hn70kGhLtZ8F",
        "colab_type": "code",
        "outputId": "ff385bb9-455d-42c3-e45e-bab220c3944b",
        "colab": {
          "base_uri": "https://localhost:8080/",
          "height": 1000
        }
      },
      "source": [
        "EPOCHS = 30\n",
        "steps_per_epoch = 6  ; validation_steps = 32\n",
        "\n",
        "history = model.fit(training_set, steps_per_epoch=steps_per_epoch, epochs=EPOCHS,\n",
        "                    validation_data=test_set, validation_steps=validation_steps)"
      ],
      "execution_count": 0,
      "outputs": [
        {
          "output_type": "stream",
          "text": [
            "Epoch 1/30\n",
            "6/6 [==============================] - ETA: 0s - loss: 1.7528 - accuracy: 0.4583WARNING:tensorflow:Your input ran out of data; interrupting training. Make sure that your dataset or generator can generate at least `steps_per_epoch * epochs` batches (in this case, 32 batches). You may need to use the repeat() function when building your dataset.\n",
            "6/6 [==============================] - 4s 596ms/step - loss: 1.7528 - accuracy: 0.4583 - val_loss: 0.6803 - val_accuracy: 0.6786\n",
            "Epoch 2/30\n",
            "6/6 [==============================] - ETA: 0s - loss: 1.0854 - accuracy: 0.5464WARNING:tensorflow:Your input ran out of data; interrupting training. Make sure that your dataset or generator can generate at least `steps_per_epoch * epochs` batches (in this case, 32 batches). You may need to use the repeat() function when building your dataset.\n",
            "6/6 [==============================] - 3s 510ms/step - loss: 1.0854 - accuracy: 0.5464 - val_loss: 0.6845 - val_accuracy: 0.6786\n",
            "Epoch 3/30\n",
            "6/6 [==============================] - ETA: 0s - loss: 0.8123 - accuracy: 0.5574WARNING:tensorflow:Your input ran out of data; interrupting training. Make sure that your dataset or generator can generate at least `steps_per_epoch * epochs` batches (in this case, 32 batches). You may need to use the repeat() function when building your dataset.\n",
            "6/6 [==============================] - 3s 505ms/step - loss: 0.8123 - accuracy: 0.5574 - val_loss: 0.6448 - val_accuracy: 0.6071\n",
            "Epoch 4/30\n",
            "6/6 [==============================] - ETA: 0s - loss: 0.7909 - accuracy: 0.5902WARNING:tensorflow:Your input ran out of data; interrupting training. Make sure that your dataset or generator can generate at least `steps_per_epoch * epochs` batches (in this case, 32 batches). You may need to use the repeat() function when building your dataset.\n",
            "6/6 [==============================] - 3s 504ms/step - loss: 0.7909 - accuracy: 0.5902 - val_loss: 0.6941 - val_accuracy: 0.5357\n",
            "Epoch 5/30\n",
            "6/6 [==============================] - ETA: 0s - loss: 0.7338 - accuracy: 0.6094WARNING:tensorflow:Your input ran out of data; interrupting training. Make sure that your dataset or generator can generate at least `steps_per_epoch * epochs` batches (in this case, 32 batches). You may need to use the repeat() function when building your dataset.\n",
            "6/6 [==============================] - 3s 528ms/step - loss: 0.7338 - accuracy: 0.6094 - val_loss: 0.5815 - val_accuracy: 0.6071\n",
            "Epoch 6/30\n",
            "6/6 [==============================] - ETA: 0s - loss: 0.6314 - accuracy: 0.7650WARNING:tensorflow:Your input ran out of data; interrupting training. Make sure that your dataset or generator can generate at least `steps_per_epoch * epochs` batches (in this case, 32 batches). You may need to use the repeat() function when building your dataset.\n",
            "6/6 [==============================] - 3s 505ms/step - loss: 0.6314 - accuracy: 0.7650 - val_loss: 0.6490 - val_accuracy: 0.5714\n",
            "Epoch 7/30\n",
            "6/6 [==============================] - ETA: 0s - loss: 0.7051 - accuracy: 0.7240WARNING:tensorflow:Your input ran out of data; interrupting training. Make sure that your dataset or generator can generate at least `steps_per_epoch * epochs` batches (in this case, 32 batches). You may need to use the repeat() function when building your dataset.\n",
            "6/6 [==============================] - 3s 529ms/step - loss: 0.7051 - accuracy: 0.7240 - val_loss: 0.7052 - val_accuracy: 0.6786\n",
            "Epoch 8/30\n",
            "6/6 [==============================] - ETA: 0s - loss: 0.6477 - accuracy: 0.7104WARNING:tensorflow:Your input ran out of data; interrupting training. Make sure that your dataset or generator can generate at least `steps_per_epoch * epochs` batches (in this case, 32 batches). You may need to use the repeat() function when building your dataset.\n",
            "6/6 [==============================] - 3s 530ms/step - loss: 0.6477 - accuracy: 0.7104 - val_loss: 0.6516 - val_accuracy: 0.5357\n",
            "Epoch 9/30\n",
            "6/6 [==============================] - ETA: 0s - loss: 0.6307 - accuracy: 0.7083WARNING:tensorflow:Your input ran out of data; interrupting training. Make sure that your dataset or generator can generate at least `steps_per_epoch * epochs` batches (in this case, 32 batches). You may need to use the repeat() function when building your dataset.\n",
            "6/6 [==============================] - 3s 526ms/step - loss: 0.6307 - accuracy: 0.7083 - val_loss: 0.7023 - val_accuracy: 0.5000\n",
            "Epoch 10/30\n",
            "6/6 [==============================] - ETA: 0s - loss: 0.5911 - accuracy: 0.7292WARNING:tensorflow:Your input ran out of data; interrupting training. Make sure that your dataset or generator can generate at least `steps_per_epoch * epochs` batches (in this case, 32 batches). You may need to use the repeat() function when building your dataset.\n",
            "6/6 [==============================] - 3s 527ms/step - loss: 0.5911 - accuracy: 0.7292 - val_loss: 0.7625 - val_accuracy: 0.5357\n",
            "Epoch 11/30\n",
            "6/6 [==============================] - ETA: 0s - loss: 0.5885 - accuracy: 0.7432WARNING:tensorflow:Your input ran out of data; interrupting training. Make sure that your dataset or generator can generate at least `steps_per_epoch * epochs` batches (in this case, 32 batches). You may need to use the repeat() function when building your dataset.\n",
            "6/6 [==============================] - 3s 509ms/step - loss: 0.5885 - accuracy: 0.7432 - val_loss: 0.7101 - val_accuracy: 0.4286\n",
            "Epoch 12/30\n",
            "6/6 [==============================] - ETA: 0s - loss: 0.4666 - accuracy: 0.8197WARNING:tensorflow:Your input ran out of data; interrupting training. Make sure that your dataset or generator can generate at least `steps_per_epoch * epochs` batches (in this case, 32 batches). You may need to use the repeat() function when building your dataset.\n",
            "6/6 [==============================] - 3s 504ms/step - loss: 0.4666 - accuracy: 0.8197 - val_loss: 0.6918 - val_accuracy: 0.5000\n",
            "Epoch 13/30\n",
            "6/6 [==============================] - ETA: 0s - loss: 0.4888 - accuracy: 0.7486WARNING:tensorflow:Your input ran out of data; interrupting training. Make sure that your dataset or generator can generate at least `steps_per_epoch * epochs` batches (in this case, 32 batches). You may need to use the repeat() function when building your dataset.\n",
            "6/6 [==============================] - 3s 525ms/step - loss: 0.4888 - accuracy: 0.7486 - val_loss: 0.6626 - val_accuracy: 0.5357\n",
            "Epoch 14/30\n",
            "6/6 [==============================] - ETA: 0s - loss: 0.5566 - accuracy: 0.7240WARNING:tensorflow:Your input ran out of data; interrupting training. Make sure that your dataset or generator can generate at least `steps_per_epoch * epochs` batches (in this case, 32 batches). You may need to use the repeat() function when building your dataset.\n",
            "6/6 [==============================] - 3s 522ms/step - loss: 0.5566 - accuracy: 0.7240 - val_loss: 0.7098 - val_accuracy: 0.5000\n",
            "Epoch 15/30\n",
            "6/6 [==============================] - ETA: 0s - loss: 0.4293 - accuracy: 0.7705WARNING:tensorflow:Your input ran out of data; interrupting training. Make sure that your dataset or generator can generate at least `steps_per_epoch * epochs` batches (in this case, 32 batches). You may need to use the repeat() function when building your dataset.\n",
            "6/6 [==============================] - 3s 525ms/step - loss: 0.4293 - accuracy: 0.7705 - val_loss: 0.8305 - val_accuracy: 0.5714\n",
            "Epoch 16/30\n",
            "6/6 [==============================] - ETA: 0s - loss: 0.4180 - accuracy: 0.8073WARNING:tensorflow:Your input ran out of data; interrupting training. Make sure that your dataset or generator can generate at least `steps_per_epoch * epochs` batches (in this case, 32 batches). You may need to use the repeat() function when building your dataset.\n",
            "6/6 [==============================] - 3s 526ms/step - loss: 0.4180 - accuracy: 0.8073 - val_loss: 0.7656 - val_accuracy: 0.5357\n",
            "Epoch 17/30\n",
            "6/6 [==============================] - ETA: 0s - loss: 0.3589 - accuracy: 0.8415WARNING:tensorflow:Your input ran out of data; interrupting training. Make sure that your dataset or generator can generate at least `steps_per_epoch * epochs` batches (in this case, 32 batches). You may need to use the repeat() function when building your dataset.\n",
            "6/6 [==============================] - 3s 524ms/step - loss: 0.3589 - accuracy: 0.8415 - val_loss: 0.7141 - val_accuracy: 0.5357\n",
            "Epoch 18/30\n",
            "6/6 [==============================] - ETA: 0s - loss: 0.4443 - accuracy: 0.7917WARNING:tensorflow:Your input ran out of data; interrupting training. Make sure that your dataset or generator can generate at least `steps_per_epoch * epochs` batches (in this case, 32 batches). You may need to use the repeat() function when building your dataset.\n",
            "6/6 [==============================] - 3s 551ms/step - loss: 0.4443 - accuracy: 0.7917 - val_loss: 0.7380 - val_accuracy: 0.5000\n",
            "Epoch 19/30\n",
            "6/6 [==============================] - ETA: 0s - loss: 0.4087 - accuracy: 0.8470WARNING:tensorflow:Your input ran out of data; interrupting training. Make sure that your dataset or generator can generate at least `steps_per_epoch * epochs` batches (in this case, 32 batches). You may need to use the repeat() function when building your dataset.\n",
            "6/6 [==============================] - 3s 520ms/step - loss: 0.4087 - accuracy: 0.8470 - val_loss: 0.9905 - val_accuracy: 0.5714\n",
            "Epoch 20/30\n",
            "6/6 [==============================] - ETA: 0s - loss: 0.3608 - accuracy: 0.8438WARNING:tensorflow:Your input ran out of data; interrupting training. Make sure that your dataset or generator can generate at least `steps_per_epoch * epochs` batches (in this case, 32 batches). You may need to use the repeat() function when building your dataset.\n",
            "6/6 [==============================] - 3s 526ms/step - loss: 0.3608 - accuracy: 0.8438 - val_loss: 1.2266 - val_accuracy: 0.6071\n",
            "Epoch 21/30\n",
            "6/6 [==============================] - ETA: 0s - loss: 0.3970 - accuracy: 0.8197WARNING:tensorflow:Your input ran out of data; interrupting training. Make sure that your dataset or generator can generate at least `steps_per_epoch * epochs` batches (in this case, 32 batches). You may need to use the repeat() function when building your dataset.\n",
            "6/6 [==============================] - 3s 503ms/step - loss: 0.3970 - accuracy: 0.8197 - val_loss: 0.9103 - val_accuracy: 0.5000\n",
            "Epoch 22/30\n",
            "6/6 [==============================] - ETA: 0s - loss: 0.3470 - accuracy: 0.8438WARNING:tensorflow:Your input ran out of data; interrupting training. Make sure that your dataset or generator can generate at least `steps_per_epoch * epochs` batches (in this case, 32 batches). You may need to use the repeat() function when building your dataset.\n",
            "6/6 [==============================] - 3s 525ms/step - loss: 0.3470 - accuracy: 0.8438 - val_loss: 0.7716 - val_accuracy: 0.5714\n",
            "Epoch 23/30\n",
            "6/6 [==============================] - ETA: 0s - loss: 0.3733 - accuracy: 0.8033WARNING:tensorflow:Your input ran out of data; interrupting training. Make sure that your dataset or generator can generate at least `steps_per_epoch * epochs` batches (in this case, 32 batches). You may need to use the repeat() function when building your dataset.\n",
            "6/6 [==============================] - 3s 500ms/step - loss: 0.3733 - accuracy: 0.8033 - val_loss: 0.8212 - val_accuracy: 0.5714\n",
            "Epoch 24/30\n",
            "6/6 [==============================] - ETA: 0s - loss: 0.3851 - accuracy: 0.8385WARNING:tensorflow:Your input ran out of data; interrupting training. Make sure that your dataset or generator can generate at least `steps_per_epoch * epochs` batches (in this case, 32 batches). You may need to use the repeat() function when building your dataset.\n",
            "6/6 [==============================] - 3s 527ms/step - loss: 0.3851 - accuracy: 0.8385 - val_loss: 0.7907 - val_accuracy: 0.5714\n",
            "Epoch 25/30\n",
            "6/6 [==============================] - ETA: 0s - loss: 0.3749 - accuracy: 0.7812WARNING:tensorflow:Your input ran out of data; interrupting training. Make sure that your dataset or generator can generate at least `steps_per_epoch * epochs` batches (in this case, 32 batches). You may need to use the repeat() function when building your dataset.\n",
            "6/6 [==============================] - 3s 518ms/step - loss: 0.3749 - accuracy: 0.7812 - val_loss: 0.7109 - val_accuracy: 0.6429\n",
            "Epoch 26/30\n",
            "6/6 [==============================] - ETA: 0s - loss: 0.4102 - accuracy: 0.8125WARNING:tensorflow:Your input ran out of data; interrupting training. Make sure that your dataset or generator can generate at least `steps_per_epoch * epochs` batches (in this case, 32 batches). You may need to use the repeat() function when building your dataset.\n",
            "6/6 [==============================] - 3s 526ms/step - loss: 0.4102 - accuracy: 0.8125 - val_loss: 0.7416 - val_accuracy: 0.5714\n",
            "Epoch 27/30\n",
            "6/6 [==============================] - ETA: 0s - loss: 0.3119 - accuracy: 0.8333WARNING:tensorflow:Your input ran out of data; interrupting training. Make sure that your dataset or generator can generate at least `steps_per_epoch * epochs` batches (in this case, 32 batches). You may need to use the repeat() function when building your dataset.\n",
            "6/6 [==============================] - 3s 533ms/step - loss: 0.3119 - accuracy: 0.8333 - val_loss: 0.9019 - val_accuracy: 0.6429\n",
            "Epoch 28/30\n",
            "6/6 [==============================] - ETA: 0s - loss: 0.2945 - accuracy: 0.8490WARNING:tensorflow:Your input ran out of data; interrupting training. Make sure that your dataset or generator can generate at least `steps_per_epoch * epochs` batches (in this case, 32 batches). You may need to use the repeat() function when building your dataset.\n",
            "6/6 [==============================] - 3s 526ms/step - loss: 0.2945 - accuracy: 0.8490 - val_loss: 0.9263 - val_accuracy: 0.6429\n",
            "Epoch 29/30\n",
            "6/6 [==============================] - ETA: 0s - loss: 0.2768 - accuracy: 0.8594WARNING:tensorflow:Your input ran out of data; interrupting training. Make sure that your dataset or generator can generate at least `steps_per_epoch * epochs` batches (in this case, 32 batches). You may need to use the repeat() function when building your dataset.\n",
            "6/6 [==============================] - 3s 532ms/step - loss: 0.2768 - accuracy: 0.8594 - val_loss: 0.9702 - val_accuracy: 0.6071\n",
            "Epoch 30/30\n",
            "6/6 [==============================] - ETA: 0s - loss: 0.2786 - accuracy: 0.8907WARNING:tensorflow:Your input ran out of data; interrupting training. Make sure that your dataset or generator can generate at least `steps_per_epoch * epochs` batches (in this case, 32 batches). You may need to use the repeat() function when building your dataset.\n",
            "6/6 [==============================] - 3s 499ms/step - loss: 0.2786 - accuracy: 0.8907 - val_loss: 1.4468 - val_accuracy: 0.6429\n"
          ],
          "name": "stdout"
        }
      ]
    },
    {
      "cell_type": "markdown",
      "metadata": {
        "id": "77PySql-SoMM",
        "colab_type": "text"
      },
      "source": [
        "Lets display the accuracy curve with respect to epoch"
      ]
    },
    {
      "cell_type": "code",
      "metadata": {
        "id": "YYwuEKbiQEm5",
        "colab_type": "code",
        "colab": {}
      },
      "source": [
        "import matplotlib.pyplot as plt"
      ],
      "execution_count": 0,
      "outputs": []
    },
    {
      "cell_type": "code",
      "metadata": {
        "id": "-bnmD2B_QGm6",
        "colab_type": "code",
        "outputId": "6c2032b2-7ccf-4549-cf9d-ad4b234c0f45",
        "colab": {
          "base_uri": "https://localhost:8080/",
          "height": 300
        }
      },
      "source": [
        "plt.plot(history.history['accuracy'], label='accuracy')\n",
        "plt.plot(history.history['val_accuracy'], label = 'val_accuracy')\n",
        "plt.xlabel('Epoch')\n",
        "plt.ylabel('Accuracy')\n",
        "plt.ylim([0.5, 1])\n",
        "plt.legend(loc='lower right')\n",
        "\n",
        "test_loss, test_acc = model.evaluate(test_set, verbose=2)"
      ],
      "execution_count": 0,
      "outputs": [
        {
          "output_type": "stream",
          "text": [
            "1/1 - 0s - loss: 1.4468 - accuracy: 0.6429\n"
          ],
          "name": "stdout"
        },
        {
          "output_type": "display_data",
          "data": {
            "image/png": "[encoded data removed]",
            "text/plain": [
              "<Figure size 432x288 with 1 Axes>"
            ]
          },
          "metadata": {
            "tags": [],
            "needs_background": "light"
          }
        }
      ]
    }
  ]
}