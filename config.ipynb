{
  "nbformat": 4,
  "nbformat_minor": 0,
  "metadata": {
    "colab": {
      "name": "config.ipynb",
      "provenance": []
    },
    "kernelspec": {
      "name": "python3",
      "display_name": "Python 3"
    }
  },
  "cells": [
    {
      "cell_type": "code",
      "metadata": {
        "id": "wHaSMrWGJWpb",
        "colab_type": "code",
        "colab": {}
      },
      "source": [
        "# -*- coding: utf-8 -*-\n",
        "\"\"\"\n",
        "author:tslgithub\n",
        "email:mymailwith163@163.com\n",
        "time:2018-12-12\n",
        "msg: You can choose the following model to train your image, and just choose in config.py:\n",
        "    VGG16,VGG19,InceptionV3,Xception,MobileNet,AlexNet,LeNet,ZF_Net,\n",
        "    ResNet18,ResNet34,ResNet50,ResNet101,ResNet152,mnist_net,TSL16\n",
        "\"\"\"\n",
        "\n",
        "import sys\n",
        "class DefaultConfig():\n",
        "\n",
        "    try:\n",
        "        model_name = sys.argv[1]\n",
        "    except:\n",
        "        print(\"use default model VGG16, see config.py\")\n",
        "        model_name = \"VGG16\"\n",
        "\n",
        "    train_data_path = 'dataset/train'\n",
        "    test_data_path = 'dataset/test'\n",
        "    checkpoints = './checkpoints/'\n",
        "\n",
        "    # if model_name == 'InceptionV3':\n",
        "    #     normal_size = 75#minSize\n",
        "    # elif model_name == 'Xception':\n",
        "    #     normal_size = 71#minSize\n",
        "    # else:\n",
        "    #     normal_size = 224\n",
        "\n",
        "    normal_size = 224\n",
        "    epochs = 1\n",
        "    batch_size = 2\n",
        "    classNumber = 2 # see dataset\n",
        "    channles = 3 # or 3 or 1\n",
        "    lr = 0.001\n",
        "\n",
        "    lr_reduce_patience = 5  # 需要降低学习率的训练步长\n",
        "    early_stop_patience = 10  # 提前终止训练的步长\n",
        "\n",
        "    data_augmentation = False\n",
        "    monitor = 'val_loss'\n",
        "    cut = False\n",
        "    rat = 0.1 #if cut,img[slice(h*self.rat,h-h*self.rat),slice(w*self.rat,w-w*self.rat)]\n",
        "\n",
        "config = DefaultConfig()"
      ],
      "execution_count": 0,
      "outputs": []
    }
  ]
}